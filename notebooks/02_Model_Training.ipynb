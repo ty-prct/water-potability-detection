{
    "cells": [
        {
            "cell_type": "markdown",
            "metadata": {},
            "source": [
                "# Water Potability Detection: Model Training\n",
                "\n",
                "In this notebook, we'll train various machine learning models on our preprocessed water potability data.\n",
                "We'll test several different algorithms and save the trained models for later evaluation.\n",
                "\n",
                "Models to be trained:\n",
                "1. Logistic Regression\n",
                "2. Random Forest Classifier\n",
                "3. Gradient Boosting (XGBoost, LightGBM)\n",
                "4. Support Vector Machines (SVM)\n",
                "5. K-Nearest Neighbors (KNN)"
            ]
        },
        {
            "cell_type": "code",
            "execution_count": 1,
            "metadata": {},
            "outputs": [],
            "source": [
                "import os\n",
                "import numpy as np\n",
                "import pandas as pd\n",
                "import matplotlib.pyplot as plt\n",
                "import seaborn as sns\n",
                "import pickle\n",
                "import time\n",
                "from datetime import datetime\n",
                "\n",
                "# Set paths\n",
                "HOME = os.getcwd()\n",
                "HOME = HOME[0:HOME.find(\"notebooks\")]\n",
                "DATA_FOLDER = HOME + \"data/\"\n",
                "MODEL_FOLDER = HOME + \"models/\"\n",
                "\n",
                "# Create models directory if it doesn't exist\n",
                "os.makedirs(MODEL_FOLDER, exist_ok=True)\n",
                "\n",
                "# For reproducibility\n",
                "RANDOM_STATE = 42"
            ]
        },
        {
            "cell_type": "code",
            "execution_count": 2,
            "metadata": {},
            "outputs": [
                {
                    "name": "stdout",
                    "output_type": "stream",
                    "text": [
                        "GPU is available for XGBoost!\n",
                        "[LightGBM] [Warning] There are no meaningful features which satisfy the provided configuration. Decreasing Dataset parameters min_data_in_bin or min_data_in_leaf and re-constructing Dataset might resolve this warning.\n",
                        "[LightGBM] [Info] Number of positive: 8, number of negative: 2\n",
                        "[LightGBM] [Info] This is the GPU trainer!!\n",
                        "[LightGBM] [Info] Total Bins 0\n",
                        "[LightGBM] [Info] Number of data points in the train set: 10, number of used features: 0\n",
                        "[LightGBM] [Info] Using GPU Device: NVIDIA GeForce RTX 3050 Laptop GPU, Vendor: NVIDIA Corporation\n",
                        "[LightGBM] [Info] Compiling OpenCL Kernel with 16 bins...\n"
                    ]
                },
                {
                    "name": "stderr",
                    "output_type": "stream",
                    "text": [
                        "1 warning generated.\n",
                        "1 warning generated.\n",
                        "1 warning generated.\n",
                        "1 warning generated.\n",
                        "1 warning generated.\n",
                        "1 warning generated.\n",
                        "1 warning generated.\n",
                        "1 warning generated.\n",
                        "1 warning generated.\n",
                        "1 warning generated.\n",
                        "1 warning generated.\n",
                        "1 warning generated.\n",
                        "1 warning generated.\n",
                        "1 warning generated.\n",
                        "1 warning generated.\n",
                        "1 warning generated.\n",
                        "1 warning generated.\n",
                        "1 warning generated.\n",
                        "1 warning generated.\n",
                        "1 warning generated.\n",
                        "1 warning generated.\n",
                        "1 warning generated.\n",
                        "1 warning generated.\n",
                        "1 warning generated.\n",
                        "1 warning generated.\n",
                        "1 warning generated.\n",
                        "1 warning generated.\n",
                        "1 warning generated.\n",
                        "1 warning generated.\n",
                        "1 warning generated.\n",
                        "1 warning generated.\n",
                        "1 warning generated.\n",
                        "1 warning generated.\n"
                    ]
                },
                {
                    "name": "stdout",
                    "output_type": "stream",
                    "text": [
                        "[LightGBM] [Info] GPU programs have been built\n",
                        "[LightGBM] [Warning] GPU acceleration is disabled because no non-trivial dense features can be found\n",
                        "[LightGBM] [Info] [binary:BoostFromScore]: pavg=0.800000 -> initscore=1.386294\n",
                        "[LightGBM] [Info] Start training from score 1.386294\n",
                        "[LightGBM] [Warning] Stopped training because there are no more leaves that meet the split requirements\n",
                        "[LightGBM] [Warning] Stopped training because there are no more leaves that meet the split requirements\n",
                        "[LightGBM] [Warning] Stopped training because there are no more leaves that meet the split requirements\n",
                        "[LightGBM] [Warning] Stopped training because there are no more leaves that meet the split requirements\n",
                        "[LightGBM] [Warning] Stopped training because there are no more leaves that meet the split requirements\n",
                        "[LightGBM] [Warning] Stopped training because there are no more leaves that meet the split requirements\n",
                        "[LightGBM] [Warning] Stopped training because there are no more leaves that meet the split requirements\n",
                        "[LightGBM] [Warning] Stopped training because there are no more leaves that meet the split requirements\n",
                        "[LightGBM] [Warning] Stopped training because there are no more leaves that meet the split requirements\n",
                        "[LightGBM] [Warning] Stopped training because there are no more leaves that meet the split requirements\n",
                        "[LightGBM] [Warning] Stopped training because there are no more leaves that meet the split requirements\n",
                        "[LightGBM] [Warning] Stopped training because there are no more leaves that meet the split requirements\n",
                        "[LightGBM] [Warning] Stopped training because there are no more leaves that meet the split requirements\n",
                        "[LightGBM] [Warning] Stopped training because there are no more leaves that meet the split requirements\n",
                        "[LightGBM] [Warning] Stopped training because there are no more leaves that meet the split requirements\n",
                        "[LightGBM] [Warning] Stopped training because there are no more leaves that meet the split requirements\n",
                        "[LightGBM] [Warning] Stopped training because there are no more leaves that meet the split requirements\n",
                        "[LightGBM] [Warning] Stopped training because there are no more leaves that meet the split requirements\n",
                        "[LightGBM] [Warning] Stopped training because there are no more leaves that meet the split requirements\n",
                        "[LightGBM] [Warning] Stopped training because there are no more leaves that meet the split requirements\n",
                        "[LightGBM] [Warning] Stopped training because there are no more leaves that meet the split requirements\n",
                        "[LightGBM] [Warning] Stopped training because there are no more leaves that meet the split requirements\n",
                        "[LightGBM] [Warning] Stopped training because there are no more leaves that meet the split requirements\n",
                        "[LightGBM] [Warning] Stopped training because there are no more leaves that meet the split requirements\n",
                        "[LightGBM] [Warning] Stopped training because there are no more leaves that meet the split requirements\n",
                        "[LightGBM] [Warning] Stopped training because there are no more leaves that meet the split requirements\n",
                        "[LightGBM] [Warning] Stopped training because there are no more leaves that meet the split requirements\n",
                        "[LightGBM] [Warning] Stopped training because there are no more leaves that meet the split requirements\n",
                        "[LightGBM] [Warning] Stopped training because there are no more leaves that meet the split requirements\n",
                        "[LightGBM] [Warning] Stopped training because there are no more leaves that meet the split requirements\n",
                        "[LightGBM] [Warning] Stopped training because there are no more leaves that meet the split requirements\n",
                        "[LightGBM] [Warning] Stopped training because there are no more leaves that meet the split requirements\n",
                        "[LightGBM] [Warning] Stopped training because there are no more leaves that meet the split requirements\n",
                        "[LightGBM] [Warning] Stopped training because there are no more leaves that meet the split requirements\n",
                        "[LightGBM] [Warning] Stopped training because there are no more leaves that meet the split requirements\n",
                        "[LightGBM] [Warning] Stopped training because there are no more leaves that meet the split requirements\n",
                        "[LightGBM] [Warning] Stopped training because there are no more leaves that meet the split requirements\n",
                        "[LightGBM] [Warning] Stopped training because there are no more leaves that meet the split requirements\n",
                        "[LightGBM] [Warning] Stopped training because there are no more leaves that meet the split requirements\n",
                        "[LightGBM] [Warning] Stopped training because there are no more leaves that meet the split requirements\n",
                        "[LightGBM] [Warning] Stopped training because there are no more leaves that meet the split requirements\n",
                        "[LightGBM] [Warning] Stopped training because there are no more leaves that meet the split requirements\n",
                        "[LightGBM] [Warning] Stopped training because there are no more leaves that meet the split requirements\n",
                        "[LightGBM] [Warning] Stopped training because there are no more leaves that meet the split requirements\n",
                        "[LightGBM] [Warning] Stopped training because there are no more leaves that meet the split requirements\n",
                        "[LightGBM] [Warning] Stopped training because there are no more leaves that meet the split requirements\n",
                        "[LightGBM] [Warning] Stopped training because there are no more leaves that meet the split requirements\n",
                        "[LightGBM] [Warning] Stopped training because there are no more leaves that meet the split requirements\n",
                        "[LightGBM] [Warning] Stopped training because there are no more leaves that meet the split requirements\n",
                        "[LightGBM] [Warning] Stopped training because there are no more leaves that meet the split requirements\n",
                        "[LightGBM] [Warning] Stopped training because there are no more leaves that meet the split requirements\n",
                        "[LightGBM] [Warning] Stopped training because there are no more leaves that meet the split requirements\n",
                        "[LightGBM] [Warning] Stopped training because there are no more leaves that meet the split requirements\n",
                        "[LightGBM] [Warning] Stopped training because there are no more leaves that meet the split requirements\n",
                        "[LightGBM] [Warning] Stopped training because there are no more leaves that meet the split requirements\n",
                        "[LightGBM] [Warning] Stopped training because there are no more leaves that meet the split requirements\n",
                        "[LightGBM] [Warning] Stopped training because there are no more leaves that meet the split requirements\n",
                        "[LightGBM] [Warning] Stopped training because there are no more leaves that meet the split requirements\n",
                        "[LightGBM] [Warning] Stopped training because there are no more leaves that meet the split requirements\n",
                        "[LightGBM] [Warning] Stopped training because there are no more leaves that meet the split requirements\n",
                        "[LightGBM] [Warning] Stopped training because there are no more leaves that meet the split requirements\n",
                        "[LightGBM] [Warning] Stopped training because there are no more leaves that meet the split requirements\n",
                        "[LightGBM] [Warning] Stopped training because there are no more leaves that meet the split requirements\n",
                        "[LightGBM] [Warning] Stopped training because there are no more leaves that meet the split requirements\n",
                        "[LightGBM] [Warning] Stopped training because there are no more leaves that meet the split requirements\n",
                        "[LightGBM] [Warning] Stopped training because there are no more leaves that meet the split requirements\n",
                        "[LightGBM] [Warning] Stopped training because there are no more leaves that meet the split requirements\n",
                        "[LightGBM] [Warning] Stopped training because there are no more leaves that meet the split requirements\n",
                        "[LightGBM] [Warning] Stopped training because there are no more leaves that meet the split requirements\n",
                        "[LightGBM] [Warning] Stopped training because there are no more leaves that meet the split requirements\n",
                        "[LightGBM] [Warning] Stopped training because there are no more leaves that meet the split requirements\n",
                        "[LightGBM] [Warning] Stopped training because there are no more leaves that meet the split requirements\n",
                        "[LightGBM] [Warning] Stopped training because there are no more leaves that meet the split requirements\n",
                        "[LightGBM] [Warning] Stopped training because there are no more leaves that meet the split requirements\n",
                        "[LightGBM] [Warning] Stopped training because there are no more leaves that meet the split requirements\n",
                        "[LightGBM] [Warning] Stopped training because there are no more leaves that meet the split requirements\n",
                        "[LightGBM] [Warning] Stopped training because there are no more leaves that meet the split requirements\n",
                        "[LightGBM] [Warning] Stopped training because there are no more leaves that meet the split requirements\n",
                        "[LightGBM] [Warning] Stopped training because there are no more leaves that meet the split requirements\n",
                        "[LightGBM] [Warning] Stopped training because there are no more leaves that meet the split requirements\n",
                        "[LightGBM] [Warning] Stopped training because there are no more leaves that meet the split requirements\n",
                        "[LightGBM] [Warning] Stopped training because there are no more leaves that meet the split requirements\n",
                        "[LightGBM] [Warning] Stopped training because there are no more leaves that meet the split requirements\n",
                        "[LightGBM] [Warning] Stopped training because there are no more leaves that meet the split requirements\n",
                        "[LightGBM] [Warning] Stopped training because there are no more leaves that meet the split requirements\n",
                        "[LightGBM] [Warning] Stopped training because there are no more leaves that meet the split requirements\n",
                        "[LightGBM] [Warning] Stopped training because there are no more leaves that meet the split requirements\n",
                        "[LightGBM] [Warning] Stopped training because there are no more leaves that meet the split requirements\n",
                        "[LightGBM] [Warning] Stopped training because there are no more leaves that meet the split requirements\n",
                        "[LightGBM] [Warning] Stopped training because there are no more leaves that meet the split requirements\n",
                        "[LightGBM] [Warning] Stopped training because there are no more leaves that meet the split requirements\n",
                        "[LightGBM] [Warning] Stopped training because there are no more leaves that meet the split requirements\n",
                        "[LightGBM] [Warning] Stopped training because there are no more leaves that meet the split requirements\n",
                        "[LightGBM] [Warning] Stopped training because there are no more leaves that meet the split requirements\n",
                        "[LightGBM] [Warning] Stopped training because there are no more leaves that meet the split requirements\n",
                        "[LightGBM] [Warning] Stopped training because there are no more leaves that meet the split requirements\n",
                        "[LightGBM] [Warning] Stopped training because there are no more leaves that meet the split requirements\n",
                        "[LightGBM] [Warning] Stopped training because there are no more leaves that meet the split requirements\n",
                        "[LightGBM] [Warning] Stopped training because there are no more leaves that meet the split requirements\n",
                        "[LightGBM] [Warning] Stopped training because there are no more leaves that meet the split requirements\n",
                        "GPU is available for LightGBM!\n"
                    ]
                }
            ],
            "source": [
                "# Import ML libraries\n",
                "from sklearn.linear_model import LogisticRegression\n",
                "from sklearn.ensemble import RandomForestClassifier\n",
                "from sklearn.svm import SVC\n",
                "from sklearn.neighbors import KNeighborsClassifier\n",
                "import xgboost as xgb\n",
                "import lightgbm as lgb\n",
                "\n",
                "# For GPU detection/usage\n",
                "import warnings\n",
                "warnings.filterwarnings('ignore')\n",
                "\n",
                "# Check for GPU availability\n",
                "gpu_available = False\n",
                "\n",
                "# Check for CUDA-compatible GPU for XGBoost\n",
                "try:\n",
                "    xgb_params = {\"tree_method\": \"gpu_hist\"}\n",
                "    xgb_clf_test = xgb.XGBClassifier(**xgb_params)\n",
                "    xgb_clf_test.fit(np.random.rand(10, 9), np.random.randint(0, 2, 10))\n",
                "    gpu_available = True\n",
                "    print(\"GPU is available for XGBoost!\")\n",
                "except Exception as e:\n",
                "    print(f\"GPU not available for XGBoost: {str(e)}\")\n",
                "    print(\"Will use CPU instead.\")\n",
                "\n",
                "# For LightGBM, detect CUDA\n",
                "try:\n",
                "    lgb_params = {\"device\": \"gpu\"}\n",
                "    lgb_clf_test = lgb.LGBMClassifier(**lgb_params)\n",
                "    lgb_clf_test.fit(np.random.rand(10, 9), np.random.randint(0, 2, 10))\n",
                "    gpu_available_lgb = True\n",
                "    print(\"GPU is available for LightGBM!\")\n",
                "except Exception as e:\n",
                "    gpu_available_lgb = False\n",
                "    print(f\"GPU not available for LightGBM: {str(e)}\")\n",
                "    print(\"Will use CPU for LightGBM.\")"
            ]
        },
        {
            "cell_type": "markdown",
            "metadata": {},
            "source": [
                "## Load the data\n",
                "\n",
                "We'll use the training data that we created in the previous data exploration notebook."
            ]
        },
        {
            "cell_type": "code",
            "execution_count": 3,
            "metadata": {},
            "outputs": [
                {
                    "name": "stdout",
                    "output_type": "stream",
                    "text": [
                        "Training data shape: (4000, 10)\n",
                        "\n",
                        "Class distribution in training data:\n",
                        "Potability\n",
                        "1    78.95\n",
                        "0    21.05\n",
                        "Name: proportion, dtype: float64\n"
                    ]
                }
            ],
            "source": [
                "# Load train dataset\n",
                "train_data = pd.read_csv(DATA_FOLDER + \"train_data.csv\")\n",
                "print(f\"Training data shape: {train_data.shape}\")\n",
                "\n",
                "# Split into features and target\n",
                "X_train = train_data.drop('Potability', axis=1)\n",
                "y_train = train_data['Potability']\n",
                "\n",
                "# Display class distribution\n",
                "print(\"\\nClass distribution in training data:\")\n",
                "print(y_train.value_counts(normalize=True).mul(100).round(2))"
            ]
        },
        {
            "cell_type": "markdown",
            "metadata": {},
            "source": [
                "## 1. Logistic Regression\n",
                "\n",
                "First, let's try a simple logistic regression model as a baseline."
            ]
        },
        {
            "cell_type": "code",
            "execution_count": 4,
            "metadata": {},
            "outputs": [
                {
                    "name": "stdout",
                    "output_type": "stream",
                    "text": [
                        "Training Logistic Regression...\n",
                        "Training completed in 0.85 seconds\n",
                        "Model saved to /home/yashpotdar/projects/water-potability-detection/models/logistic_regression_model.pkl\n"
                    ]
                },
                {
                    "name": "stderr",
                    "output_type": "stream",
                    "text": [
                        "/home/yashpotdar/projects/water-potability-detection/.venv/lib/python3.13/site-packages/sklearn/linear_model/_logistic.py:465: ConvergenceWarning: lbfgs failed to converge (status=1):\n",
                        "STOP: TOTAL NO. OF ITERATIONS REACHED LIMIT.\n",
                        "\n",
                        "Increase the number of iterations (max_iter) or scale the data as shown in:\n",
                        "    https://scikit-learn.org/stable/modules/preprocessing.html\n",
                        "Please also refer to the documentation for alternative solver options:\n",
                        "    https://scikit-learn.org/stable/modules/linear_model.html#logistic-regression\n",
                        "  n_iter_i = _check_optimize_result(\n"
                    ]
                }
            ],
            "source": [
                "# Initialize and train Logistic Regression model\n",
                "print(\"Training Logistic Regression...\")\n",
                "start_time = time.time()\n",
                "\n",
                "lr_model = LogisticRegression(random_state=RANDOM_STATE, max_iter=1000, n_jobs=-1)\n",
                "lr_model.fit(X_train, y_train)\n",
                "\n",
                "training_time = time.time() - start_time\n",
                "print(f\"Training completed in {training_time:.2f} seconds\")\n",
                "\n",
                "# Save the model\n",
                "model_path = MODEL_FOLDER + \"logistic_regression_model.pkl\"\n",
                "with open(model_path, 'wb') as file:\n",
                "    pickle.dump(lr_model, file)\n",
                "print(f\"Model saved to {model_path}\")"
            ]
        },
        {
            "cell_type": "markdown",
            "metadata": {},
            "source": [
                "## 2. Random Forest Classifier\n",
                "\n",
                "Next, let's train a Random Forest model, which often performs well on tabular data."
            ]
        },
        {
            "cell_type": "code",
            "execution_count": 5,
            "metadata": {},
            "outputs": [
                {
                    "name": "stdout",
                    "output_type": "stream",
                    "text": [
                        "Training Random Forest Classifier...\n",
                        "Training completed in 0.11 seconds\n",
                        "Model saved to /home/yashpotdar/projects/water-potability-detection/models/random_forest_model.pkl\n"
                    ]
                }
            ],
            "source": [
                "# Initialize and train Random Forest model\n",
                "print(\"Training Random Forest Classifier...\")\n",
                "start_time = time.time()\n",
                "\n",
                "rf_model = RandomForestClassifier(n_estimators=100, random_state=RANDOM_STATE, n_jobs=-1)\n",
                "rf_model.fit(X_train, y_train)\n",
                "\n",
                "training_time = time.time() - start_time\n",
                "print(f\"Training completed in {training_time:.2f} seconds\")\n",
                "\n",
                "# Save the model\n",
                "model_path = MODEL_FOLDER + \"random_forest_model.pkl\"\n",
                "with open(model_path, 'wb') as file:\n",
                "    pickle.dump(rf_model, file)\n",
                "print(f\"Model saved to {model_path}\")"
            ]
        },
        {
            "cell_type": "markdown",
            "metadata": {},
            "source": [
                "## 3a. XGBoost Classifier\n",
                "\n",
                "Now let's train an XGBoost model, a powerful gradient boosting implementation."
            ]
        },
        {
            "cell_type": "code",
            "execution_count": 6,
            "metadata": {},
            "outputs": [
                {
                    "name": "stdout",
                    "output_type": "stream",
                    "text": [
                        "Training XGBoost Classifier...\n",
                        "Using GPU acceleration for XGBoost\n",
                        "Training completed in 0.13 seconds\n",
                        "Model saved to /home/yashpotdar/projects/water-potability-detection/models/xgboost_model.pkl\n"
                    ]
                }
            ],
            "source": [
                "# Initialize and train XGBoost model with GPU if available\n",
                "print(\"Training XGBoost Classifier...\")\n",
                "start_time = time.time()\n",
                "\n",
                "if gpu_available:\n",
                "    xgb_model = xgb.XGBClassifier(\n",
                "        n_estimators=100, \n",
                "        random_state=RANDOM_STATE,\n",
                "        tree_method='gpu_hist',  # Use GPU acceleration\n",
                "        gpu_id=0\n",
                "    )\n",
                "    print(\"Using GPU acceleration for XGBoost\")\n",
                "else:\n",
                "    xgb_model = xgb.XGBClassifier(\n",
                "        n_estimators=100, \n",
                "        random_state=RANDOM_STATE,\n",
                "        n_jobs=-1  # Use all CPU cores\n",
                "    )\n",
                "    print(\"Using CPU for XGBoost\")\n",
                "\n",
                "xgb_model.fit(X_train, y_train)\n",
                "\n",
                "training_time = time.time() - start_time\n",
                "print(f\"Training completed in {training_time:.2f} seconds\")\n",
                "\n",
                "# Save the model\n",
                "model_path = MODEL_FOLDER + \"xgboost_model.pkl\"\n",
                "with open(model_path, 'wb') as file:\n",
                "    pickle.dump(xgb_model, file)\n",
                "print(f\"Model saved to {model_path}\")"
            ]
        },
        {
            "cell_type": "markdown",
            "metadata": {},
            "source": [
                "## 3b. LightGBM Classifier\n",
                "\n",
                "Let's also try LightGBM, another efficient gradient boosting framework."
            ]
        },
        {
            "cell_type": "code",
            "execution_count": 7,
            "metadata": {},
            "outputs": [
                {
                    "name": "stdout",
                    "output_type": "stream",
                    "text": [
                        "Training LightGBM Classifier...\n",
                        "Using GPU acceleration for LightGBM\n",
                        "[LightGBM] [Info] Number of positive: 3158, number of negative: 842\n",
                        "[LightGBM] [Info] This is the GPU trainer!!\n",
                        "[LightGBM] [Info] Total Bins 2124\n",
                        "[LightGBM] [Info] Number of data points in the train set: 4000, number of used features: 9\n",
                        "[LightGBM] [Info] Using requested OpenCL platform 0 device 0\n",
                        "[LightGBM] [Info] Using GPU Device: NVIDIA GeForce RTX 3050 Laptop GPU, Vendor: NVIDIA Corporation\n",
                        "[LightGBM] [Info] Compiling OpenCL Kernel with 256 bins...\n"
                    ]
                },
                {
                    "name": "stderr",
                    "output_type": "stream",
                    "text": [
                        "1 warning generated.\n",
                        "1 warning generated.\n",
                        "1 warning generated.\n",
                        "1 warning generated.\n",
                        "1 warning generated.\n",
                        "1 warning generated.\n",
                        "1 warning generated.\n",
                        "1 warning generated.\n",
                        "1 warning generated.\n",
                        "1 warning generated.\n",
                        "1 warning generated.\n",
                        "1 warning generated.\n",
                        "1 warning generated.\n",
                        "1 warning generated.\n",
                        "1 warning generated.\n",
                        "1 warning generated.\n",
                        "1 warning generated.\n",
                        "1 warning generated.\n",
                        "1 warning generated.\n",
                        "1 warning generated.\n",
                        "1 warning generated.\n",
                        "1 warning generated.\n",
                        "1 warning generated.\n",
                        "1 warning generated.\n",
                        "1 warning generated.\n",
                        "1 warning generated.\n",
                        "1 warning generated.\n",
                        "1 warning generated.\n",
                        "1 warning generated.\n",
                        "1 warning generated.\n",
                        "1 warning generated.\n",
                        "1 warning generated.\n",
                        "1 warning generated.\n"
                    ]
                },
                {
                    "name": "stdout",
                    "output_type": "stream",
                    "text": [
                        "[LightGBM] [Info] GPU programs have been built\n",
                        "[LightGBM] [Info] Size of histogram bin entry: 8\n",
                        "[LightGBM] [Info] 9 dense feature groups (0.05 MB) transferred to GPU in 0.000441 secs. 0 sparse feature groups\n",
                        "[LightGBM] [Info] [binary:BoostFromScore]: pavg=0.789500 -> initscore=1.321914\n",
                        "[LightGBM] [Info] Start training from score 1.321914\n",
                        "Training completed in 2.59 seconds\n",
                        "Model saved to /home/yashpotdar/projects/water-potability-detection/models/lightgbm_model.pkl\n"
                    ]
                }
            ],
            "source": [
                "# Initialize and train LightGBM model with GPU if available\n",
                "print(\"Training LightGBM Classifier...\")\n",
                "start_time = time.time()\n",
                "\n",
                "if gpu_available_lgb:\n",
                "    lgb_model = lgb.LGBMClassifier(\n",
                "        n_estimators=100, \n",
                "        random_state=RANDOM_STATE,\n",
                "        device='gpu',\n",
                "        gpu_platform_id=0,\n",
                "        gpu_device_id=0\n",
                "    )\n",
                "    print(\"Using GPU acceleration for LightGBM\")\n",
                "else:\n",
                "    lgb_model = lgb.LGBMClassifier(\n",
                "        n_estimators=100, \n",
                "        random_state=RANDOM_STATE,\n",
                "        n_jobs=-1  # Use all CPU cores\n",
                "    )\n",
                "    print(\"Using CPU for LightGBM\")\n",
                "\n",
                "lgb_model.fit(X_train, y_train)\n",
                "\n",
                "training_time = time.time() - start_time\n",
                "print(f\"Training completed in {training_time:.2f} seconds\")\n",
                "\n",
                "# Save the model\n",
                "model_path = MODEL_FOLDER + \"lightgbm_model.pkl\"\n",
                "with open(model_path, 'wb') as file:\n",
                "    pickle.dump(lgb_model, file)\n",
                "print(f\"Model saved to {model_path}\")"
            ]
        },
        {
            "cell_type": "markdown",
            "metadata": {},
            "source": [
                "## 4. Support Vector Machine (SVM)\n",
                "\n",
                "Let's try an SVM classifier, which can be effective for this type of classification task."
            ]
        },
        {
            "cell_type": "code",
            "execution_count": 8,
            "metadata": {},
            "outputs": [
                {
                    "name": "stdout",
                    "output_type": "stream",
                    "text": [
                        "Training Support Vector Machine Classifier...\n",
                        "Training completed in 0.12 seconds\n",
                        "Model saved to /home/yashpotdar/projects/water-potability-detection/models/svm_model.pkl\n"
                    ]
                }
            ],
            "source": [
                "# Initialize and train SVM model\n",
                "print(\"Training Support Vector Machine Classifier...\")\n",
                "start_time = time.time()\n",
                "\n",
                "svm_model = SVC(probability=True, random_state=RANDOM_STATE)\n",
                "svm_model.fit(X_train, y_train)\n",
                "\n",
                "training_time = time.time() - start_time\n",
                "print(f\"Training completed in {training_time:.2f} seconds\")\n",
                "\n",
                "# Save the model\n",
                "model_path = MODEL_FOLDER + \"svm_model.pkl\"\n",
                "with open(model_path, 'wb') as file:\n",
                "    pickle.dump(svm_model, file)\n",
                "print(f\"Model saved to {model_path}\")"
            ]
        },
        {
            "cell_type": "markdown",
            "metadata": {},
            "source": [
                "## 5. K-Nearest Neighbors (KNN)\n",
                "\n",
                "Finally, let's train a KNN classifier."
            ]
        },
        {
            "cell_type": "code",
            "execution_count": 9,
            "metadata": {},
            "outputs": [
                {
                    "name": "stdout",
                    "output_type": "stream",
                    "text": [
                        "Training K-Nearest Neighbors Classifier...\n",
                        "Training completed in 0.00 seconds\n",
                        "Model saved to /home/yashpotdar/projects/water-potability-detection/models/knn_model.pkl\n"
                    ]
                }
            ],
            "source": [
                "# Initialize and train KNN model\n",
                "print(\"Training K-Nearest Neighbors Classifier...\")\n",
                "start_time = time.time()\n",
                "\n",
                "knn_model = KNeighborsClassifier(n_neighbors=5, n_jobs=-1)\n",
                "knn_model.fit(X_train, y_train)\n",
                "\n",
                "training_time = time.time() - start_time\n",
                "print(f\"Training completed in {training_time:.2f} seconds\")\n",
                "\n",
                "# Save the model\n",
                "model_path = MODEL_FOLDER + \"knn_model.pkl\"\n",
                "with open(model_path, 'wb') as file:\n",
                "    pickle.dump(knn_model, file)\n",
                "print(f\"Model saved to {model_path}\")"
            ]
        },
        {
            "cell_type": "markdown",
            "metadata": {},
            "source": [
                "## Summary\n",
                "\n",
                "In this notebook, we've trained five different types of machine learning models on our water potability data:\n",
                "\n",
                "1. Logistic Regression\n",
                "2. Random Forest Classifier\n",
                "3. Gradient Boosting (XGBoost and LightGBM)\n",
                "4. Support Vector Machine (SVM)\n",
                "5. K-Nearest Neighbors (KNN)\n",
                "\n",
                "All models have been saved to the `models/` directory for future evaluation. In the next notebook, we'll evaluate these models and compare their performance."
            ]
        },
        {
            "cell_type": "code",
            "execution_count": 10,
            "metadata": {},
            "outputs": [
                {
                    "name": "stdout",
                    "output_type": "stream",
                    "text": [
                        "Saved models:\n",
                        " - knn_model.pkl (0.38 MB)\n",
                        " - lightgbm_model.pkl (0.34 MB)\n",
                        " - logistic_regression_model.pkl (0.00 MB)\n",
                        " - xgboost_model.pkl (0.08 MB)\n",
                        " - random_forest_model.pkl (0.25 MB)\n",
                        " - svm_model.pkl (0.02 MB)\n"
                    ]
                }
            ],
            "source": [
                "# List all saved models\n",
                "print(\"Saved models:\")\n",
                "for model_file in os.listdir(MODEL_FOLDER):\n",
                "    if model_file.endswith('.pkl'):\n",
                "        model_path = os.path.join(MODEL_FOLDER, model_file)\n",
                "        size_mb = os.path.getsize(model_path) / (1024 * 1024)\n",
                "        print(f\" - {model_file} ({size_mb:.2f} MB)\")"
            ]
        }
    ],
    "metadata": {
        "kernelspec": {
            "display_name": ".venv",
            "language": "python",
            "name": "python3"
        },
        "language_info": {
            "codemirror_mode": {
                "name": "ipython",
                "version": 3
            },
            "file_extension": ".py",
            "mimetype": "text/x-python",
            "name": "python",
            "nbconvert_exporter": "python",
            "pygments_lexer": "ipython3",
            "version": "3.13.2"
        }
    },
    "nbformat": 4,
    "nbformat_minor": 5
}
